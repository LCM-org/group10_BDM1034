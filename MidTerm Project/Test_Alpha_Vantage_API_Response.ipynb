{
  "nbformat": 4,
  "nbformat_minor": 0,
  "metadata": {
    "colab": {
      "provenance": []
    },
    "kernelspec": {
      "name": "python3",
      "display_name": "Python 3"
    },
    "language_info": {
      "name": "python"
    }
  },
  "cells": [
    {
      "cell_type": "markdown",
      "source": [
        "**This Notebook is created only for testing out the Alpha Ventage API for getting the exchange rate through HTTPS requests using a pre authorized API key generated through by creating an alha vantage account\n",
        "More INformation is available at this website : https://www.alphavantage.co/\n",
        "\n",
        "Note that we're using a Free API Key so the response might not come after certain number of responses.\n",
        "\n",
        "\n",
        "**"
      ],
      "metadata": {
        "id": "VPdOBbCp8fRB"
      }
    },
    {
      "cell_type": "code",
      "source": [
        "import requests\n",
        "import pandas as pd\n",
        "\n",
        "\n",
        "from_currency = input(\"Please enter currency code for conversion from : \")\n",
        "to_currency = input(\"Please enter currency code for conversion to : \")\n",
        "\n",
        "url = f'https://www.alphavantage.co/query?function=CURRENCY_EXCHANGE_RATE&from_currency={from_currency}&to_currency={to_currency}&interval=0.001&apikey=YSGOXVK6P42SHUEP'\n",
        "\n",
        "print(url)\n",
        "\n",
        "r = requests.get(url)\n",
        "data = r.json()\n",
        "\n",
        "print(pd.DataFrame(data))"
      ],
      "metadata": {
        "colab": {
          "base_uri": "https://localhost:8080/"
        },
        "id": "TMLsD4B5baKS",
        "outputId": "c051640b-c059-49cc-9330-cb7103a297ca"
      },
      "execution_count": 4,
      "outputs": [
        {
          "output_type": "stream",
          "name": "stdout",
          "text": [
            "Please enter currency code for conversion from : CAD\n",
            "Please enter currency code for conversion to : INR\n",
            "https://www.alphavantage.co/query?function=CURRENCY_EXCHANGE_RATE&from_currency=CAD&to_currency=INR&interval=0.001&apikey=YSGOXVK6P42SHUEP\n",
            "                      Realtime Currency Exchange Rate\n",
            "1. From_Currency Code                             CAD\n",
            "2. From_Currency Name                 Canadian Dollar\n",
            "3. To_Currency Code                               INR\n",
            "4. To_Currency Name                      Indian Rupee\n",
            "5. Exchange Rate                          60.08800000\n",
            "6. Last Refreshed                 2023-03-05 22:00:19\n",
            "7. Time Zone                                      UTC\n",
            "8. Bid Price                              60.08690000\n",
            "9. Ask Price                              60.08990000\n"
          ]
        }
      ]
    },
    {
      "cell_type": "code",
      "source": [
        "# test function\n",
        "print(get_currency_exchange_rate(from_currency=\"CAD\", to_currency=\"INR\"))\n",
        "\n",
        "print(get_currency_exchange_rate(from_currency=\"CAD\", to_currency=\"INR\")['Realtime Currency Exchange Rate']['5. Exchange Rate'])"
      ],
      "metadata": {
        "colab": {
          "base_uri": "https://localhost:8080/"
        },
        "id": "BCUbwPy1zmlP",
        "outputId": "58169853-bbda-4ab2-b986-a06a60409e03"
      },
      "execution_count": 9,
      "outputs": [
        {
          "output_type": "stream",
          "name": "stdout",
          "text": [
            "{'Realtime Currency Exchange Rate': {'1. From_Currency Code': 'CAD', '2. From_Currency Name': 'Canadian Dollar', '3. To_Currency Code': 'INR', '4. To_Currency Name': 'Indian Rupee', '5. Exchange Rate': '60.08800000', '6. Last Refreshed': '2023-03-05 22:07:04', '7. Time Zone': 'UTC', '8. Bid Price': '60.08690000', '9. Ask Price': '60.08990000'}}\n",
            "60.08800000\n"
          ]
        }
      ]
    }
  ]
}